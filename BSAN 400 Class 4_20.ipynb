{
 "cells": [
  {
   "cell_type": "markdown",
   "metadata": {},
   "source": [
    "# BSAN 400 Python 4/20 (Nice)"
   ]
  },
  {
   "cell_type": "code",
   "execution_count": 1,
   "metadata": {},
   "outputs": [
    {
     "name": "stdout",
     "output_type": "stream",
     "text": [
      "91\n",
      "91\n",
      "79\n",
      "170\n",
      "73\n",
      "243\n",
      "42\n",
      "285\n",
      "285\n"
     ]
    }
   ],
   "source": [
    "grades = [73, 91, 79, 42]\n",
    "Sum = 0\n",
    "\n",
    "for grade in sorted(grades, reverse = True):\n",
    "    print(grade)\n",
    "    Sum+=grade\n",
    "    print(Sum)\n",
    "    \n",
    "print(Sum)"
   ]
  },
  {
   "cell_type": "code",
   "execution_count": 2,
   "metadata": {},
   "outputs": [
    {
     "name": "stdout",
     "output_type": "stream",
     "text": [
      "['c', 'b', 'B', 'A', '90', '73']\n"
     ]
    }
   ],
   "source": [
    "grades = [\"A\",'b',\"B\",'c','90','73'] # '90' and '73' are strings in this example\n",
    "print(sorted(grades, reverse=True))"
   ]
  },
  {
   "cell_type": "code",
   "execution_count": 3,
   "metadata": {},
   "outputs": [
    {
     "name": "stdout",
     "output_type": "stream",
     "text": [
      "['73', '90', 'A', 'B', 'b', 'c']\n"
     ]
    }
   ],
   "source": [
    "grades = [\"A\",'b',\"B\",'c','90','73']\n",
    "print(sorted(grades, reverse=False)) # forward order"
   ]
  },
  {
   "cell_type": "code",
   "execution_count": 4,
   "metadata": {},
   "outputs": [
    {
     "name": "stdout",
     "output_type": "stream",
     "text": [
      "RVB\n",
      "RVB\n",
      "['not', 'nearly', 'as', 'hard', 'as', 'the']\n"
     ]
    }
   ],
   "source": [
    "count = 0\n",
    "final=['not','nearly','as','hard','as','the','midterm','right','?']\n",
    "\n",
    "while count <6:\n",
    "    count+=3\n",
    "    print('RVB')\n",
    "print(final[:count]) # will not include 6th element of 'midterm'"
   ]
  },
  {
   "cell_type": "code",
   "execution_count": 7,
   "metadata": {
    "scrolled": true
   },
   "outputs": [
    {
     "name": "stdout",
     "output_type": "stream",
     "text": [
      "0\n",
      "1\n",
      "2\n",
      "3\n",
      "['not', 'nearly', 'as', 'as', 'hard', 'the', 'midterm', 'right', '?']\n"
     ]
    }
   ],
   "source": [
    "final=['not','nearly','as','as','the','midterm','right','?']\n",
    "for num in range(4):\n",
    "    print(num)\n",
    "    \n",
    "final.insert(4,'hard')\n",
    "print(final)"
   ]
  },
  {
   "cell_type": "code",
   "execution_count": 8,
   "metadata": {},
   "outputs": [
    {
     "name": "stdout",
     "output_type": "stream",
     "text": [
      "2\n",
      "2\n",
      "2\n",
      "7\n",
      "4\n",
      "8\n"
     ]
    }
   ],
   "source": [
    "d={'RVB':'awesome','final':'easy','midterm':'not easy'}\n",
    "\n",
    "for word in d.items():\n",
    "    print(len(word))\n",
    "for word in d.values():\n",
    "    print(len(word))"
   ]
  }
 ],
 "metadata": {
  "kernelspec": {
   "display_name": "Python 3",
   "language": "python",
   "name": "python3"
  },
  "language_info": {
   "codemirror_mode": {
    "name": "ipython",
    "version": 3
   },
   "file_extension": ".py",
   "mimetype": "text/x-python",
   "name": "python",
   "nbconvert_exporter": "python",
   "pygments_lexer": "ipython3",
   "version": "3.6.11"
  }
 },
 "nbformat": 4,
 "nbformat_minor": 2
}
